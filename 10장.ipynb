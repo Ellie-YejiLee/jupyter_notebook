{
 "cells": [
  {
   "cell_type": "code",
   "execution_count": 1,
   "id": "fd17c779",
   "metadata": {},
   "outputs": [
    {
     "data": {
      "text/plain": [
       "array([169, 167, 175, 166, 162, 180, 172, 162, 173, 162, 181, 175, 181,\n",
       "       181, 162, 165, 172, 176, 167, 165])"
      ]
     },
     "execution_count": 1,
     "metadata": {},
     "output_type": "execute_result"
    }
   ],
   "source": [
    "import numpy\n",
    "from scipy import stats\n",
    "\n",
    "height_list = numpy.array([169, 167, 175, 166, 162, 180, 172, 162, 173, 162, 181, 175, 181, 181, 162, 165, 172, 176, 167, 165])\n",
    "height_list"
   ]
  },
  {
   "cell_type": "code",
   "execution_count": 5,
   "id": "0c1ae456",
   "metadata": {},
   "outputs": [
    {
     "name": "stdout",
     "output_type": "stream",
     "text": [
      "t검정 통계량 = 0.423, pvalue = 0.677\n"
     ]
    }
   ],
   "source": [
    "tTestResult= stats.ttest_1samp(height_list, 170)\n",
    "tTestResult\n",
    "print('t검정 통계량 = %.3f, pvalue = %.3f'%(tTestResult))"
   ]
  },
  {
   "cell_type": "code",
   "execution_count": 6,
   "id": "50676cda",
   "metadata": {},
   "outputs": [
    {
     "data": {
      "text/plain": [
       "Ttest_indResult(statistic=-1.8253194633881713, pvalue=0.07582039848129221)"
      ]
     },
     "execution_count": 6,
     "metadata": {},
     "output_type": "execute_result"
    }
   ],
   "source": [
    "import numpy\n",
    "from scipy import stats\n",
    "\n",
    "group1Heights = numpy.array([162, 168, 169, 165, 166, 168, 162, 172, 157, 173, 158, 169, 164, 170, 163, 175, 177, 162, 175, 177])\n",
    "\n",
    "group2Heights = numpy.array([180, 181, 163, 164, 174, 169, 164, 172, 162, 171, 180, 168, 164, 169, 169, 178, 177, 167, 179, 172])\n",
    "\n",
    "tTestResult= stats.ttest_ind(group1Heights, group2Heights)\n",
    "tTestResult\n"
   ]
  },
  {
   "cell_type": "code",
   "execution_count": 8,
   "id": "b469e9d8",
   "metadata": {},
   "outputs": [
    {
     "name": "stdout",
     "output_type": "stream",
     "text": [
      "[80.35689079 79.32556983 72.05753596 77.44602587 64.71307461 74.48616819\n",
      " 78.30312427 76.50650055 60.61214057 82.16480488 79.19356209 68.45288619\n",
      " 59.41097971 80.67111142 90.11694044 81.61592703 82.07122207 81.14868785\n",
      " 67.54656642 60.55326137]\n"
     ]
    },
    {
     "data": {
      "text/plain": [
       "Ttest_relResult(statistic=2.1459091342740404, pvalue=0.04501103957322748)"
      ]
     },
     "execution_count": 8,
     "metadata": {},
     "output_type": "execute_result"
    }
   ],
   "source": [
    "import numpy\n",
    "from scipy import stats\n",
    "\n",
    "beforeWeights = numpy.array([80, 82, 76, 82, 65, 73, 77, 78, 61, 81, 80, 70, 60, 83, 89, 84, 85, 81, 67, 60])\n",
    "\n",
    "tmp_list=[]\n",
    "for i in beforeWeights:\n",
    "    tmp_list.append(i * numpy.random.normal(0.99, 0.02))\n",
    "    \n",
    "afterWeights=numpy.array(tmp_list)\n",
    "print(afterWeights)\n",
    "\n",
    "tTestResult=stats.ttest_rel(beforeWeights, afterWeights)\n",
    "tTestResult"
   ]
  },
  {
   "cell_type": "code",
   "execution_count": 9,
   "id": "59a17b3f",
   "metadata": {},
   "outputs": [
    {
     "data": {
      "text/html": [
       "<div>\n",
       "<style scoped>\n",
       "    .dataframe tbody tr th:only-of-type {\n",
       "        vertical-align: middle;\n",
       "    }\n",
       "\n",
       "    .dataframe tbody tr th {\n",
       "        vertical-align: top;\n",
       "    }\n",
       "\n",
       "    .dataframe thead th {\n",
       "        text-align: right;\n",
       "    }\n",
       "</style>\n",
       "<table border=\"1\" class=\"dataframe\">\n",
       "  <thead>\n",
       "    <tr style=\"text-align: right;\">\n",
       "      <th></th>\n",
       "      <th>Item A</th>\n",
       "      <th>Item B</th>\n",
       "      <th>Item C</th>\n",
       "    </tr>\n",
       "  </thead>\n",
       "  <tbody>\n",
       "    <tr>\n",
       "      <th>Obs</th>\n",
       "      <td>24</td>\n",
       "      <td>378</td>\n",
       "      <td>251</td>\n",
       "    </tr>\n",
       "    <tr>\n",
       "      <th>Exp</th>\n",
       "      <td>271</td>\n",
       "      <td>180</td>\n",
       "      <td>202</td>\n",
       "    </tr>\n",
       "  </tbody>\n",
       "</table>\n",
       "</div>"
      ],
      "text/plain": [
       "     Item A  Item B  Item C\n",
       "Obs      24     378     251\n",
       "Exp     271     180     202"
      ]
     },
     "execution_count": 9,
     "metadata": {},
     "output_type": "execute_result"
    }
   ],
   "source": [
    "from pandas import DataFrame\n",
    "\n",
    "xo, xe = [24, 378, 251], [271, 180, 202]\n",
    "xc= DataFrame([xo, xe], columns=['Item A', 'Item B', 'Item C'], index=['Obs', 'Exp'])\n",
    "xc"
   ]
  },
  {
   "cell_type": "code",
   "execution_count": 10,
   "id": "e7b87437",
   "metadata": {},
   "outputs": [
    {
     "data": {
      "image/png": "[encoded data removed]",
      "text/plain": [
       "<Figure size 576x432 with 1 Axes>"
      ]
     },
     "metadata": {
      "needs_background": "light"
     },
     "output_type": "display_data"
    }
   ],
   "source": [
    "import matplotlib.pyplot as plt\n",
    "%matplotlib inline\n",
    "ax= xc.plot(kind='bar', title= 'Number of Item', figsize=(8,6))\n",
    "ax.set_ylabel('value')\n",
    "\n",
    "plt.grid(color='darkgray')\n",
    "plt.show()"
   ]
  },
  {
   "cell_type": "code",
   "execution_count": 11,
   "id": "061f71b8",
   "metadata": {},
   "outputs": [
    {
     "data": {
      "text/plain": [
       "Power_divergenceResult(statistic=454.81159986847393, pvalue=1.7334684263715945e-99)"
      ]
     },
     "execution_count": 11,
     "metadata": {},
     "output_type": "execute_result"
    }
   ],
   "source": [
    "from scipy.stats import chisquare\n",
    "\n",
    "result= chisquare(xo, f_exp=xe)\n",
    "result\n",
    "#남학생 여학생은 독립으로 계산\n",
    "#결측지 공부 필수!!!!"
   ]
  },
  {
   "cell_type": "code",
   "execution_count": null,
   "id": "88f48f95",
   "metadata": {},
   "outputs": [],
   "source": []
  }
 ],
 "metadata": {
  "kernelspec": {
   "display_name": "Python 3 (ipykernel)",
   "language": "python",
   "name": "python3"
  },
  "language_info": {
   "codemirror_mode": {
    "name": "ipython",
    "version": 3
   },
   "file_extension": ".py",
   "mimetype": "text/x-python",
   "name": "python",
   "nbconvert_exporter": "python",
   "pygments_lexer": "ipython3",
   "version": "3.8.12"
  }
 },
 "nbformat": 4,
 "nbformat_minor": 5
}
