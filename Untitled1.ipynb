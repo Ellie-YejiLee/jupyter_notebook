{
 "cells": [
  {
   "cell_type": "code",
   "execution_count": 18,
   "id": "378c44ac",
   "metadata": {},
   "outputs": [],
   "source": [
    "def isLeapYear (year):\n",
    "    if (year%4 ==0 and year%100 !=0) or year%400==0:\n",
    "        return True\n",
    "    else :\n",
    "        return False"
   ]
  },
  {
   "cell_type": "code",
   "execution_count": 19,
   "id": "cf7f49f8",
   "metadata": {},
   "outputs": [],
   "source": [
    "def lastDay(year, month):\n",
    "    m = [31,28,31,30,31,30,31,31,30,31,30,31]\n",
    "    if isLeapYear(year):\n",
    "        m[1]=29\n",
    "    else:\n",
    "        m[1]=28\n",
    "    return m[month-1]"
   ]
  },
  {
   "cell_type": "code",
   "execution_count": 21,
   "id": "79688fd1",
   "metadata": {},
   "outputs": [
    {
     "name": "stdout",
     "output_type": "stream",
     "text": [
      "연도와 달, 일을 입력하시오2021 09 13\n",
      "2021년 9월 13일의 총 지나온 날짜는 738045\n"
     ]
    }
   ],
   "source": [
    "def totalDay(year, month, day):\n",
    "    total=(year-1)*365 + (year-1)/4 - (year-1)/100 + (year-1)/400;\n",
    "    for i in range(1,month):\n",
    "        total += lastDay(year, i)\n",
    "    return total+day\n",
    "\n",
    "year, month, day= map(int, input(\"연도와 달, 일을 입력하시오\").split())\n",
    "print(\"%d년 %d월 %d일의 총 지나온 날짜는 %d\" %(year, month, day, totalDay(year,month,day)))"
   ]
  },
  {
   "cell_type": "code",
   "execution_count": null,
   "id": "9b0d477a",
   "metadata": {},
   "outputs": [],
   "source": []
  }
 ],
 "metadata": {
  "kernelspec": {
   "display_name": "Python 3",
   "language": "python",
   "name": "python3"
  },
  "language_info": {
   "codemirror_mode": {
    "name": "ipython",
    "version": 3
   },
   "file_extension": ".py",
   "mimetype": "text/x-python",
   "name": "python",
   "nbconvert_exporter": "python",
   "pygments_lexer": "ipython3",
   "version": "3.8.8"
  }
 },
 "nbformat": 4,
 "nbformat_minor": 5
}
