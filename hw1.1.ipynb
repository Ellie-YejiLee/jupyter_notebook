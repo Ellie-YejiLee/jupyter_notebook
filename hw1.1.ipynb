{
 "cells": [
  {
   "cell_type": "code",
   "execution_count": 4,
   "id": "a74f95a4",
   "metadata": {},
   "outputs": [
    {
     "name": "stdout",
     "output_type": "stream",
     "text": [
      "첫 번째 숫자: 6\n",
      "연산자 입력: *\n",
      "두 번쨰 숫자: 3\n",
      "6 * 3 = 18\n",
      "프로그램 종료\n"
     ]
    }
   ],
   "source": [
    "x= int(input(\"첫 번째 숫자: \"))\n",
    "\n",
    "##op는 변수\n",
    "op= input(\"연산자 입력: \")\n",
    "\n",
    "y= int(input(\"두 번쨰 숫자: \"))\n",
    "\n",
    "if op==\"+\":\n",
    "    print(\"%d + %d = %d\" %(x, y, x+y))\n",
    "elif op==\"-\":\n",
    "    print(\"%d - %d = %d\" %(x, y, x-y))\n",
    "elif op==\"*\":\n",
    "    print(\"%d * %d = %d\" %(x, y, x*y))\n",
    "elif op==\"/\":\n",
    "    print(\"%d * %d = %d\" %(x, y, x/y))\n",
    "elif op==\"%\":\n",
    "    print(\"%d * %d = %d\" %(x, y, x%y))\n",
    "elif op==\"//\":\n",
    "    print(\"%d * %d = %d\" %(x, y, x//y))\n",
    "print(\"프로그램 종료\")"
   ]
  },
  {
   "cell_type": "code",
   "execution_count": null,
   "id": "3b1670e8",
   "metadata": {},
   "outputs": [],
   "source": []
  }
 ],
 "metadata": {
  "kernelspec": {
   "display_name": "Python 3",
   "language": "python",
   "name": "python3"
  },
  "language_info": {
   "codemirror_mode": {
    "name": "ipython",
    "version": 3
   },
   "file_extension": ".py",
   "mimetype": "text/x-python",
   "name": "python",
   "nbconvert_exporter": "python",
   "pygments_lexer": "ipython3",
   "version": "3.8.8"
  }
 },
 "nbformat": 4,
 "nbformat_minor": 5
}
