{
 "cells": [
  {
   "cell_type": "code",
   "execution_count": 1,
   "id": "10ce535d",
   "metadata": {},
   "outputs": [
    {
     "name": "stdout",
     "output_type": "stream",
     "text": [
      "시험성적의 합계 :  [ 70  90 110]\n",
      "시험성적의 평균 :  [35. 45. 55.]\n"
     ]
    }
   ],
   "source": [
    "import numpy as np\n",
    "mid_scores= np.array([10, 20, 30])\n",
    "final_scores= np.array([60, 70, 80])\n",
    "\n",
    "total = mid_scores + final_scores\n",
    "print('시험성적의 합계 : ', total)\n",
    "print('시험성적의 평균 : ', total/2)"
   ]
  },
  {
   "cell_type": "code",
   "execution_count": 6,
   "id": "a29668f0",
   "metadata": {},
   "outputs": [
    {
     "name": "stdout",
     "output_type": "stream",
     "text": [
      "[ 11  22  33  44  55  66  77  88  99 110]\n",
      "[ -9 -18 -27 -36 -45 -54 -63 -72 -81 -90]\n",
      "[  10   40   90  160  250  360  490  640  810 1000]\n",
      "[0.1 0.1 0.1 0.1 0.1 0.1 0.1 0.1 0.1 0.1]\n"
     ]
    }
   ],
   "source": [
    "import numpy as np\n",
    "a= np.array(range(1,11)) #1, 2, 3, 4, 5...\n",
    "b= np.array(range(10, 101, 10)) #10차이로 10, 20, 30...\n",
    "print(a + b)\n",
    "print(a - b)\n",
    "print(a * b)\n",
    "print(a / b)"
   ]
  },
  {
   "cell_type": "code",
   "execution_count": 12,
   "id": "e5f79f4a",
   "metadata": {},
   "outputs": [
    {
     "data": {
      "text/plain": [
       "(10,)"
      ]
     },
     "execution_count": 12,
     "metadata": {},
     "output_type": "execute_result"
    }
   ],
   "source": [
    "a= np.array(range(1, 11)) + np.array(range(10, 101, 10))\n",
    "a.shape #11, 22, 33, ... , 110"
   ]
  },
  {
   "cell_type": "code",
   "execution_count": 10,
   "id": "54b4d199",
   "metadata": {},
   "outputs": [
    {
     "data": {
      "text/plain": [
       "10"
      ]
     },
     "execution_count": 10,
     "metadata": {},
     "output_type": "execute_result"
    }
   ],
   "source": [
    "a.size #a.ndim -> 1"
   ]
  },
  {
   "cell_type": "code",
   "execution_count": 15,
   "id": "a1588487",
   "metadata": {},
   "outputs": [
    {
     "name": "stdout",
     "output_type": "stream",
     "text": [
      "실습 1: array_a =  [0 1 2 3 4 5 6 7 8 9]\n",
      "실습 2: array_b =  [0 1 2 3 4 5 6 7 8 9]\n",
      "실습 3 : array_c =  [0 2 4 6 8]\n",
      "실습 4 : \n",
      "array_c의 shape :  (5,)\n",
      "array_c의 ndim :  1\n",
      "array_c의 ctype :  int32\n",
      "array_c의 size :  5\n",
      "array_c의 itemsize :  4\n"
     ]
    }
   ],
   "source": [
    "#실습 1\n",
    "array_a= np.array([0, 1, 2, 3, 4, 5, 6, 7, 8, 9])\n",
    "print('실습 1: array_a = ', array_a)\n",
    "\n",
    "#실습 2\n",
    "array_b = np.array(range(10))\n",
    "print('실습 2: array_b = ', array_b)\n",
    "\n",
    "#실습3\n",
    "array_c = np.array(range(0, 10, 2)) #0, 2, 4, 6, 8\n",
    "print('실습 3 : array_c = ', array_c)\n",
    "\n",
    "#실습 4\n",
    "print('실습 4 : ')\n",
    "print('array_c의 shape : ', array_c.shape) \n",
    "print('array_c의 ndim : ', array_c.ndim) \n",
    "print('array_c의 ctype : ', array_c.dtype)\n",
    "print('array_c의 size : ', array_c.size)\n",
    "print('array_c의 itemsize : ', array_c.itemsize) #int32 / 8(8bit로) = 4"
   ]
  },
  {
   "cell_type": "code",
   "execution_count": 16,
   "id": "24d169ca",
   "metadata": {},
   "outputs": [
    {
     "name": "stdout",
     "output_type": "stream",
     "text": [
      "[320 350 330]\n"
     ]
    }
   ],
   "source": [
    "import numpy as np\n",
    "salary = np.array([220, 250, 230])\n",
    "salary= salary + 100\n",
    "print(salary)"
   ]
  },
  {
   "cell_type": "code",
   "execution_count": 17,
   "id": "27d0824c",
   "metadata": {},
   "outputs": [
    {
     "name": "stdout",
     "output_type": "stream",
     "text": [
      "[440 500 460]\n",
      "[462. 525. 483.]\n"
     ]
    }
   ],
   "source": [
    "salary = np.array([220, 250, 230])\n",
    "salary=salary*2\n",
    "print(salary)\n",
    "salary = np.array([220, 250, 230])\n",
    "salary= salary*2.1 #실수형으로\n",
    "print(salary)"
   ]
  },
  {
   "cell_type": "code",
   "execution_count": 22,
   "id": "9a68e945",
   "metadata": {},
   "outputs": [
    {
     "name": "stdout",
     "output_type": "stream",
     "text": [
      "대상자들의 키:  [1.83 1.76 1.69 1.86 1.77 1.73]\n",
      "대상자들의 몸무게:  [86 74 59 95 80 68]\n",
      "대상자들의 BMI\n",
      "[25.68007405 23.88946281 20.65754    27.45982194 25.53544639 22.72043837]\n"
     ]
    }
   ],
   "source": [
    "import numpy as np\n",
    "heights = [1.83, 1.76, 1.69, 1.86, 1.77, 1.73]\n",
    "weights = [86, 74, 59, 95, 80, 68]\n",
    "\n",
    "np_heights= np.array(heights)\n",
    "np_weights = np.array(weights)\n",
    "\n",
    "bmi = np_weights/(np_heights**2)\n",
    "print('대상자들의 키: ', np_heights)\n",
    "print('대상자들의 몸무게: ', np_weights)\n",
    "print('대상자들의 BMI')\n",
    "print(bmi)\n"
   ]
  },
  {
   "cell_type": "code",
   "execution_count": 31,
   "id": "81a7aebb",
   "metadata": {},
   "outputs": [
    {
     "name": "stdout",
     "output_type": "stream",
     "text": [
      "[[1 2 3 4]]\n",
      "[[ 1  3]\n",
      " [ 9 11]]\n"
     ]
    }
   ],
   "source": [
    "np_array= np.array([[1, 2, 3, 4],\n",
    "                   [5, 6, 7, 8],\n",
    "                   [9, 10, 11, 12],\n",
    "                   [13, 14, 15, 16]])\n",
    "print(np_array[::2][::2]) #1, 3줄 선택 후 2칸씩 뛰우는데 5줄이 없기 때문에 1줄 출력\n",
    "print(np_array[::2,::2])"
   ]
  },
  {
   "cell_type": "code",
   "execution_count": 32,
   "id": "6d8e5b64",
   "metadata": {},
   "outputs": [
    {
     "name": "stdout",
     "output_type": "stream",
     "text": [
      "[25.68007405 27.45982194 25.53544639]\n"
     ]
    }
   ],
   "source": [
    "print(bmi[bmi>25])"
   ]
  },
  {
   "cell_type": "code",
   "execution_count": 34,
   "id": "21a60014",
   "metadata": {},
   "outputs": [
    {
     "name": "stdout",
     "output_type": "stream",
     "text": [
      "['c' 'c' 'c']\n",
      "[[ 8 18 28]\n",
      " [ 9 18 27]]\n"
     ]
    }
   ],
   "source": [
    "x = np.array([['a', 'b', 'c', 'd'],\n",
    "             ['c', 'c', 'g', 'h']])\n",
    "mat_a = np.array([[10, 20, 30], [10, 20, 30]])\n",
    "mat_b = np.array([[2, 2, 2], [1, 2, 3]])\n",
    "print(x [x=='c'])\n",
    "print(mat_a - mat_b)  #빼기"
   ]
  },
  {
   "cell_type": "code",
   "execution_count": 40,
   "id": "d1047a87",
   "metadata": {},
   "outputs": [
    {
     "name": "stdout",
     "output_type": "stream",
     "text": [
      "x shape :  (2, 6)\n",
      "y shape :  (2, 2)\n",
      "z shape :  (1, 6)\n",
      "z values = : [[86. 74. 59. 95. 80. 68.]]\n",
      "BMI data\n",
      "[0.00024743 0.0003214  0.00048549 0.00020609 0.00027656 0.00037413]\n"
     ]
    }
   ],
   "source": [
    "import numpy as np\n",
    "\n",
    "x= np.array([[1.83, 1.76, 1.69, 1.86, 1.77, 1.73],\n",
    "            [86.0, 74.0, 59.0, 95.0, 80.0, 68.0]])\n",
    "y= x[0:2, 1:3]\n",
    "z= x[0:2][1:3]\n",
    "\n",
    "print('x shape : ', x.shape)\n",
    "print('y shape : ', y.shape)\n",
    "print('z shape : ', z.shape)\n",
    "print('z values = :', z)\n",
    "\n",
    "bmi=x[0] / x[1]**2\n",
    "print('BMI data')\n",
    "print(bmi)"
   ]
  },
  {
   "cell_type": "code",
   "execution_count": 43,
   "id": "7e2d94a6",
   "metadata": {},
   "outputs": [
    {
     "name": "stdout",
     "output_type": "stream",
     "text": [
      "몸무게가 80 이상인 선수 정보\n",
      "[[183.   86.2]\n",
      " [176.   80.1]]\n",
      "키가 180 이상인 선수 정보\n",
      "[[170.   76.4]\n",
      " [183.   86.2]\n",
      " [181.   78.5]\n",
      " [176.   80.1]]\n"
     ]
    }
   ],
   "source": [
    "players= [[170, 76.4],\n",
    "          [183, 86.2],\n",
    "          [181, 78.5],\n",
    "          [176, 80.1]]\n",
    "\n",
    "np_players =np.array(players)\n",
    "print('몸무게가 80 이상인 선수 정보')\n",
    "print(np_players[np_players[:, 1]>=80.0])\n",
    "print('키가 180 이상인 선수 정보')\n",
    "print(np_players[np_players[:, 0]>= 100.0])\n",
    "#3차원부터"
   ]
  },
  {
   "cell_type": "code",
   "execution_count": 5,
   "id": "679e649f",
   "metadata": {},
   "outputs": [
    {
     "name": "stdout",
     "output_type": "stream",
     "text": [
      "[0.5488135  0.71518937 0.60276338]\n",
      "[0.4359949  0.02592623 0.54966248]\n",
      "[0.5488135  0.71518937 0.60276338]\n"
     ]
    }
   ],
   "source": [
    "import numpy as np\n",
    "#seed를 같게 세팅하면 같은 난수가 순서대로 생겨남.\n",
    "\n",
    "np.random.seed(0)\n",
    "print(np.random.random(3))\n",
    "np.random.seed(2)\n",
    "print(np.random.random(3))\n",
    "np.random.seed(0) \n",
    "print(np.random.random(3))"
   ]
  },
  {
   "cell_type": "code",
   "execution_count": 7,
   "id": "1f1eb246",
   "metadata": {},
   "outputs": [
    {
     "name": "stdout",
     "output_type": "stream",
     "text": [
      "[181.19301766 174.41374005 187.565714   177.96747196 178.98585727\n",
      " 164.4682562  168.60523733 173.51473119 159.25417853 170.04311803\n",
      " 173.82425207 178.73120161 171.13971229 162.69406883 155.4172839\n",
      " 169.82037314 180.79798796 161.46267161 167.80473334 173.81383883\n",
      " 166.91883945 167.81089054 169.26456078 171.16322814 177.9163404\n",
      " 175.72856983 174.81445755 176.00037285 179.28080951 164.60212146\n",
      " 177.9122838  174.94231096 165.1730032  166.95840284 163.01813287\n",
      " 182.66768767 177.17525545 195.84441691 190.13476091 153.99175267\n",
      " 185.06072922 164.6288513  156.94732372 163.97803913 185.78579101\n",
      " 169.81265934 172.18473649 180.60369332 182.55208981 164.39109143\n",
      " 175.5447385  173.95721368 171.48390316 180.89799139 160.21031872\n",
      " 160.77044033 166.73538879 182.84208626 173.04582796 162.35404562\n",
      " 183.56933176 170.06005654 175.14636658 158.93533541 176.61989515\n",
      " 180.35038317 183.3058861  185.43629589 167.39052705 174.14568682\n",
      " 167.10036365 170.29160374 164.66946286 172.6881329  158.8975654\n",
      " 189.30601898 157.74614278 178.59249589 183.81934954 177.05013088\n",
      " 187.11363507 153.30576807 171.64978961 157.83028465 160.38134469\n",
      " 169.28897915 155.32071798 175.608832   179.48718882 152.18436327\n",
      " 167.11190492 186.87270875 165.58777897 173.71770303 187.72386135\n",
      " 166.97005258 185.22303203 190.07875916 165.76658304 181.58777556]\n",
      "[82.85972561 58.44932969 71.18876454 80.32144978 75.39952432 47.48738813\n",
      " 66.56382744 69.32056468 81.7658723  54.8498485  61.06328188 63.19756373\n",
      " 71.94206644 60.32502602 80.6825969  82.13087606 81.44718802 86.78404449\n",
      " 74.7840488  70.91737652 70.42653477 83.64251737 80.99588905 63.72265559\n",
      " 68.7068318  61.01460587 89.30647719 71.98606513 68.54192747 67.80885549\n",
      " 87.6249777  57.17760533 72.69826794 78.78698596 70.07966274 80.88572919\n",
      " 70.78978303 78.06082332 75.19104919 68.7271555  61.59015989 65.04693799\n",
      " 68.62979995 79.87424495 62.81450318 89.38034981 72.20391311 65.2490511\n",
      " 72.38653989 74.05642436 72.9965873  76.91165041 50.94162792 72.82044327\n",
      " 47.12360074 64.48525875 82.07620665 58.48201934 71.55182596 63.67990944\n",
      " 51.83227334 68.11985101 70.89066714 53.94606098 62.92484412 48.50895544\n",
      " 71.26303753 69.56370899 80.12715019 52.5766288  59.31525621 86.553494\n",
      " 78.51931977 83.70982165 72.74074532 74.03809029 59.59971346 82.53384823\n",
      " 65.97775183 54.66984487 85.46245557 71.24546645 72.06549848 60.95005454\n",
      " 76.54498125 74.61331047 53.45408774 56.14569881 74.44631643 61.53238263\n",
      " 78.93276358 73.86761165 69.94865728 60.69860005 55.05926481 74.68739268\n",
      " 72.22334149 67.95353514 69.53556477 63.02116258]\n",
      "[20. 11. 21. 25. 15.  6. 38. 12. 34. 12.  9. 38. 41. 10. 34. 30. 12. 22.\n",
      "  5.  5. 16. 25. 37. 30. 26. 23. 22. 17. 28. -3. 10. 16. 22. 18. 18. 32.\n",
      " 21. 21. 19. 17. 20. 23. 36. 25. 10. 20. 18.  8.  0. 26. 29. 29. 19. 30.\n",
      " 25. 29. 22. -1.  7.  8. 21.  4. 10. 31. 11. 22. 26. 10.  2. 22. 29. 22.\n",
      "  4. 23. 18. 31. 30. 17. -1.  5. 29. 18. 25. 21. 28. 32. 14. 15. 17.  3.\n",
      " 37. 21. 21. 22. 33. 19. 17. 13. 20. 14.]\n",
      "신장 평균값 :  172.44554696612704\n",
      "신장 중앙값 :  172.86698043419057\n",
      "체중 평균값 :  69.79755027060173\n",
      "신장 중앙값 :  69.79755027060173\n",
      "나이 평균값 :  19.54\n",
      "나이 중앙값 :  20.5\n"
     ]
    }
   ],
   "source": [
    "import numpy as np\n",
    "\n",
    "players = np.zeros((100, 3))\n",
    "players[:, 0] = 10 * np.random.randn(100) +175\n",
    "print(players[:, 0])\n",
    "players[:, 1] = 10 * np.random.randn(100) +70\n",
    "print(players[:, 1])\n",
    "players[:, 2] = np.floor(10 * np.random.randn(100))+22\n",
    "print(players[:, 2])\n",
    "\n",
    "heights = players[:, 0]\n",
    "print('신장 평균값 : ', np.mean(heights))\n",
    "print('신장 중앙값 : ', np.median(heights))\n",
    "\n",
    "weights = players[:, 1]\n",
    "print('체중 평균값 : ', np.mean(weights))\n",
    "print('신장 중앙값 : ', np.mean(weights))\n",
    "\n",
    "ages = players[:, 2]\n",
    "print('나이 평균값 : ', np.mean(ages))\n",
    "print('나이 중앙값 : ', np.median(ages))"
   ]
  },
  {
   "cell_type": "code",
   "execution_count": 8,
   "id": "f8feea7b",
   "metadata": {},
   "outputs": [
    {
     "data": {
      "image/png": "[encoded data removed]",
      "text/plain": [
       "<Figure size 432x288 with 1 Axes>"
      ]
     },
     "metadata": {
      "needs_background": "light"
     },
     "output_type": "display_data"
    }
   ],
   "source": [
    "import matplotlib.pylab as plt\n",
    "x = [i for i in range(100)]\n",
    "y = [i ** 2 for i in range(100)]\n",
    "z = [100*np.sin(3.14*i/100) for i in range(0,100)]\n",
    "plt.plot(z)\n",
    "plt.xlabel('radian')\n",
    "plt.ylabel('sin(x)')\n",
    "plt.show()"
   ]
  },
  {
   "cell_type": "code",
   "execution_count": 9,
   "id": "57cd252c",
   "metadata": {},
   "outputs": [
    {
     "name": "stdout",
     "output_type": "stream",
     "text": [
      "[[ 1.          0.96764439  0.03763255]\n",
      " [ 0.96764439  1.         -0.21532645]\n",
      " [ 0.03763255 -0.21532645  1.        ]]\n"
     ]
    }
   ],
   "source": [
    "result = np.corrcoef([x, y, z])\n",
    "print(result)"
   ]
  },
  {
   "cell_type": "code",
   "execution_count": 10,
   "id": "0e4628d2",
   "metadata": {},
   "outputs": [
    {
     "name": "stdout",
     "output_type": "stream",
     "text": [
      "[[[ 0  1]\n",
      "  [ 2  3]\n",
      "  [ 4  5]]\n",
      "\n",
      " [[ 6  7]\n",
      "  [ 8  9]\n",
      "  [10 11]]\n",
      "\n",
      " [[12 13]\n",
      "  [14 15]\n",
      "  [16 17]]\n",
      "\n",
      " [[18 19]\n",
      "  [20 21]\n",
      "  [22 23]]]\n"
     ]
    }
   ],
   "source": [
    "a= np.arange(0, 24).reshape(4, 3, 2)\n",
    "print(a)"
   ]
  },
  {
   "cell_type": "code",
   "execution_count": 13,
   "id": "828f19af",
   "metadata": {},
   "outputs": [
    {
     "name": "stdout",
     "output_type": "stream",
     "text": [
      "[ 1  2  3  4  5  6  7  8  9 10 11 12 13 14 15 16 17 18 19 20]\n",
      "[20 19 18 17 16 15 14 13 12 11 10  9  8  7  6  5  4  3  2  1]\n",
      "210\n",
      "[[ 1  2  3  4]\n",
      " [ 5  6  7  8]\n",
      " [ 9 10 11 12]\n",
      " [13 14 15 16]\n",
      " [17 18 19 20]]\n"
     ]
    }
   ],
   "source": [
    "import numpy as np\n",
    "\n",
    "num_arr = np.arange(1, 21)\n",
    "print(num_arr)\n",
    "print(num_arr[::-1]) #역행\n",
    "print(num_arr.sum())\n",
    "num_arr = num_arr.reshape(5, 4)\n",
    "print(num_arr)"
   ]
  },
  {
   "cell_type": "code",
   "execution_count": 16,
   "id": "2301d71e",
   "metadata": {},
   "outputs": [
    {
     "name": "stdout",
     "output_type": "stream",
     "text": [
      "[[ 0  1  2  3  4]\n",
      " [ 5  6  7  8  9]\n",
      " [10 11 12 13 14]\n",
      " [15 16 17 18 19]\n",
      " [20 21 22 23 24]]\n"
     ]
    }
   ],
   "source": [
    "import numpy as np\n",
    "\n",
    "n_arr = np.arange(25).reshape(5,5)\n",
    "print(n_arr)"
   ]
  },
  {
   "cell_type": "code",
   "execution_count": 18,
   "id": "fb7e5940",
   "metadata": {},
   "outputs": [
    {
     "name": "stdout",
     "output_type": "stream",
     "text": [
      "첫 원소 :  0\n",
      "마지막 원소 :  24\n"
     ]
    }
   ],
   "source": [
    "print('첫 원소 : ', n_arr[0][0])\n",
    "print('마지막 원소 : ', n_arr[4][4])"
   ]
  },
  {
   "cell_type": "code",
   "execution_count": 21,
   "id": "f654f55c",
   "metadata": {},
   "outputs": [
    {
     "name": "stdout",
     "output_type": "stream",
     "text": [
      "[[0 1 2 3 4]\n",
      " [5 6 7 8 9]]\n"
     ]
    }
   ],
   "source": [
    "print(n_arr[:2])"
   ]
  },
  {
   "cell_type": "code",
   "execution_count": 23,
   "id": "8e72956a",
   "metadata": {},
   "outputs": [
    {
     "name": "stdout",
     "output_type": "stream",
     "text": [
      "[[10 11 12 13 14]\n",
      " [15 16 17 18 19]\n",
      " [20 21 22 23 24]]\n"
     ]
    }
   ],
   "source": [
    "print(n_arr[2:])"
   ]
  },
  {
   "cell_type": "code",
   "execution_count": 24,
   "id": "16bded8c",
   "metadata": {},
   "outputs": [
    {
     "name": "stdout",
     "output_type": "stream",
     "text": [
      "[[ 0  2  4]\n",
      " [ 5  7  9]\n",
      " [10 12 14]\n",
      " [15 17 19]\n",
      " [20 22 24]]\n"
     ]
    }
   ],
   "source": [
    "print(n_arr[::,::2]) #모든 열을 출력하지만 2칸씩 띄우기"
   ]
  },
  {
   "cell_type": "code",
   "execution_count": 25,
   "id": "3e05b6bf",
   "metadata": {},
   "outputs": [
    {
     "name": "stdout",
     "output_type": "stream",
     "text": [
      "[[ 0  2  4]\n",
      " [10 12 14]\n",
      " [20 22 24]]\n"
     ]
    }
   ],
   "source": [
    "n_arr = np.arange(25).reshape(5,5)\n",
    "\n",
    "slice_arr = (n_arr[::2, ::2])\n",
    "print(slice_arr)"
   ]
  },
  {
   "cell_type": "code",
   "execution_count": 27,
   "id": "834b8005",
   "metadata": {},
   "outputs": [
    {
     "name": "stdout",
     "output_type": "stream",
     "text": [
      "[[0 1]\n",
      " [2 3]\n",
      " [4 5]\n",
      " [6 7]\n",
      " [8 9]]\n"
     ]
    }
   ],
   "source": [
    "print(n_arr[:2].reshape(5,2))"
   ]
  },
  {
   "cell_type": "code",
   "execution_count": 29,
   "id": "65808aa4",
   "metadata": {},
   "outputs": [
    {
     "name": "stdout",
     "output_type": "stream",
     "text": [
      "[[1 0 1 0 1]\n",
      " [0 1 0 1 0]\n",
      " [1 0 1 0 1]\n",
      " [0 1 0 1 0]\n",
      " [1 0 1 0 1]]\n",
      "[3 2 3 2 3]\n"
     ]
    }
   ],
   "source": [
    "#axis=0 행, 1 열,\n",
    "import numpy as np\n",
    "\n",
    "num_arr = (np.arange(1, 26)%2).reshape(5,5)\n",
    "print(num_arr)\n",
    "\n",
    "sum_arr= num_arr.sum(axis=0)\n",
    "print(sum_arr)"
   ]
  },
  {
   "cell_type": "code",
   "execution_count": 30,
   "id": "24693539",
   "metadata": {},
   "outputs": [
    {
     "name": "stdout",
     "output_type": "stream",
     "text": [
      "[ 0  1  2  3  4  5  6  7  8  9 10 11 12 13 14 15 16 17 18 19 20 21 22 23\n",
      " 24 25 26 27 28 29 30 31]\n",
      "10번째 원소: 9\n",
      "19번째 원소: 19\n"
     ]
    }
   ],
   "source": [
    "import numpy as np\n",
    "a= np.arange(0, 32).reshape(4, 4, 2)\n",
    "a= a.flatten()\n",
    "print(a)\n",
    "print('10번째 원소:', a[9])\n",
    "print('19번째 원소:', a[19])"
   ]
  },
  {
   "cell_type": "code",
   "execution_count": 32,
   "id": "814f69f4",
   "metadata": {},
   "outputs": [
    {
     "name": "stdout",
     "output_type": "stream",
     "text": [
      "[[ 1.          0.99568393  0.88822891  0.00462021]\n",
      " [ 0.99568393  1.          0.88516497 -0.00564681]\n",
      " [ 0.88822891  0.88516497  1.          0.05553442]\n",
      " [ 0.00462021 -0.00564681  0.05553442  1.        ]]\n"
     ]
    }
   ],
   "source": [
    "x1 = [i for i in range(100)]\n",
    "x2 = [i + np.random.randint(1, 10)for i in range(100)]\n",
    "x3 = [i+ np.random.randint(1, 50)for i in range(100)]\n",
    "x4 = [np.random.randint(1, 100) for i in range(100)]\n",
    "result = np.corrcoef([x1, x2, x3, x4])\n",
    "print(result)"
   ]
  },
  {
   "cell_type": "code",
   "execution_count": 1,
   "id": "2e298bcf",
   "metadata": {},
   "outputs": [
    {
     "name": "stdout",
     "output_type": "stream",
     "text": [
      "[[[0.18658668 0.67580209 0.08793297]\n",
      "  [0.91291947 0.41919485 0.23321599]\n",
      "  [0.57063639 0.37607267 0.85374848]]\n",
      "\n",
      " [[0.7058659  0.94356269 0.22842434]\n",
      "  [0.62671315 0.67934668 0.58563628]\n",
      "  [0.3574699  0.16679165 0.83051808]]\n",
      "\n",
      " [[0.52536215 0.52311119 0.70219246]\n",
      "  [0.4652927  0.66694006 0.05870411]\n",
      "  [0.05169195 0.40805711 0.93409697]]]\n",
      "\n",
      "a의 원소들 중 최댓값 :  0.9435626870619152\n",
      "a의 원소들 중 최댓값의 위치 :  10\n"
     ]
    }
   ],
   "source": [
    "#과제 1\n",
    "import numpy as np\n",
    "\n",
    "#(1)\n",
    "a = np.random.rand(3, 3, 3)\n",
    "print(a) \n",
    "print()\n",
    "#(2)\n",
    "print('a의 원소들 중 최댓값 : ', a.max())\n",
    "#(3)\n",
    "print('a의 원소들 중 최댓값의 위치 : ', a.argmax())"
   ]
  },
  {
   "cell_type": "code",
   "execution_count": null,
   "id": "af77a21e",
   "metadata": {},
   "outputs": [],
   "source": []
  },
  {
   "cell_type": "code",
   "execution_count": null,
   "id": "06163be1",
   "metadata": {},
   "outputs": [],
   "source": []
  }
 ],
 "metadata": {
  "kernelspec": {
   "display_name": "Python 3 (ipykernel)",
   "language": "python",
   "name": "python3"
  },
  "language_info": {
   "codemirror_mode": {
    "name": "ipython",
    "version": 3
   },
   "file_extension": ".py",
   "mimetype": "text/x-python",
   "name": "python",
   "nbconvert_exporter": "python",
   "pygments_lexer": "ipython3",
   "version": "3.8.12"
  }
 },
 "nbformat": 4,
 "nbformat_minor": 5
}
