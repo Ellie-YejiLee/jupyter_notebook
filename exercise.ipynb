{
 "cells": [
  {
   "cell_type": "code",
   "execution_count": 1,
   "id": "990b523c",
   "metadata": {},
   "outputs": [],
   "source": [
    "import numpy as np\n",
    "import pandas as pd\n",
    "\n",
    "df=pd.DataFrame(np.random.rand(10, 5))\n",
    "df.to_csv(\"dfs.csv\")"
   ]
  },
  {
   "cell_type": "code",
   "execution_count": 2,
   "id": "db78850d",
   "metadata": {},
   "outputs": [
    {
     "data": {
      "text/html": [
       "<div>\n",
       "<style scoped>\n",
       "    .dataframe tbody tr th:only-of-type {\n",
       "        vertical-align: middle;\n",
       "    }\n",
       "\n",
       "    .dataframe tbody tr th {\n",
       "        vertical-align: top;\n",
       "    }\n",
       "\n",
       "    .dataframe thead th {\n",
       "        text-align: right;\n",
       "    }\n",
       "</style>\n",
       "<table border=\"1\" class=\"dataframe\">\n",
       "  <thead>\n",
       "    <tr style=\"text-align: right;\">\n",
       "      <th></th>\n",
       "      <th>Unnamed: 0</th>\n",
       "      <th>0</th>\n",
       "      <th>1</th>\n",
       "      <th>2</th>\n",
       "      <th>3</th>\n",
       "      <th>4</th>\n",
       "    </tr>\n",
       "  </thead>\n",
       "  <tbody>\n",
       "    <tr>\n",
       "      <th>0</th>\n",
       "      <td>0</td>\n",
       "      <td>0.905783</td>\n",
       "      <td>0.976401</td>\n",
       "      <td>0.467920</td>\n",
       "      <td>0.707687</td>\n",
       "      <td>0.843487</td>\n",
       "    </tr>\n",
       "    <tr>\n",
       "      <th>1</th>\n",
       "      <td>1</td>\n",
       "      <td>0.586814</td>\n",
       "      <td>0.759380</td>\n",
       "      <td>0.537061</td>\n",
       "      <td>0.690441</td>\n",
       "      <td>0.277641</td>\n",
       "    </tr>\n",
       "    <tr>\n",
       "      <th>2</th>\n",
       "      <td>2</td>\n",
       "      <td>0.449758</td>\n",
       "      <td>0.954391</td>\n",
       "      <td>0.554995</td>\n",
       "      <td>0.829203</td>\n",
       "      <td>0.465418</td>\n",
       "    </tr>\n",
       "    <tr>\n",
       "      <th>3</th>\n",
       "      <td>3</td>\n",
       "      <td>0.237463</td>\n",
       "      <td>0.586662</td>\n",
       "      <td>0.603521</td>\n",
       "      <td>0.023646</td>\n",
       "      <td>0.404341</td>\n",
       "    </tr>\n",
       "    <tr>\n",
       "      <th>4</th>\n",
       "      <td>4</td>\n",
       "      <td>0.476650</td>\n",
       "      <td>0.382958</td>\n",
       "      <td>0.510951</td>\n",
       "      <td>0.915342</td>\n",
       "      <td>0.297321</td>\n",
       "    </tr>\n",
       "    <tr>\n",
       "      <th>5</th>\n",
       "      <td>5</td>\n",
       "      <td>0.816502</td>\n",
       "      <td>0.739676</td>\n",
       "      <td>0.867825</td>\n",
       "      <td>0.573163</td>\n",
       "      <td>0.869067</td>\n",
       "    </tr>\n",
       "    <tr>\n",
       "      <th>6</th>\n",
       "      <td>6</td>\n",
       "      <td>0.112710</td>\n",
       "      <td>0.275173</td>\n",
       "      <td>0.391312</td>\n",
       "      <td>0.096958</td>\n",
       "      <td>0.504240</td>\n",
       "    </tr>\n",
       "    <tr>\n",
       "      <th>7</th>\n",
       "      <td>7</td>\n",
       "      <td>0.050815</td>\n",
       "      <td>0.024435</td>\n",
       "      <td>0.721970</td>\n",
       "      <td>0.155959</td>\n",
       "      <td>0.233667</td>\n",
       "    </tr>\n",
       "    <tr>\n",
       "      <th>8</th>\n",
       "      <td>8</td>\n",
       "      <td>0.665309</td>\n",
       "      <td>0.734535</td>\n",
       "      <td>0.096463</td>\n",
       "      <td>0.744738</td>\n",
       "      <td>0.509548</td>\n",
       "    </tr>\n",
       "    <tr>\n",
       "      <th>9</th>\n",
       "      <td>9</td>\n",
       "      <td>0.958626</td>\n",
       "      <td>0.567026</td>\n",
       "      <td>0.060528</td>\n",
       "      <td>0.803178</td>\n",
       "      <td>0.017956</td>\n",
       "    </tr>\n",
       "  </tbody>\n",
       "</table>\n",
       "</div>"
      ],
      "text/plain": [
       "   Unnamed: 0         0         1         2         3         4\n",
       "0           0  0.905783  0.976401  0.467920  0.707687  0.843487\n",
       "1           1  0.586814  0.759380  0.537061  0.690441  0.277641\n",
       "2           2  0.449758  0.954391  0.554995  0.829203  0.465418\n",
       "3           3  0.237463  0.586662  0.603521  0.023646  0.404341\n",
       "4           4  0.476650  0.382958  0.510951  0.915342  0.297321\n",
       "5           5  0.816502  0.739676  0.867825  0.573163  0.869067\n",
       "6           6  0.112710  0.275173  0.391312  0.096958  0.504240\n",
       "7           7  0.050815  0.024435  0.721970  0.155959  0.233667\n",
       "8           8  0.665309  0.734535  0.096463  0.744738  0.509548\n",
       "9           9  0.958626  0.567026  0.060528  0.803178  0.017956"
      ]
     },
     "execution_count": 2,
     "metadata": {},
     "output_type": "execute_result"
    }
   ],
   "source": [
    "pd.read_csv(\"dfs.csv\")"
   ]
  },
  {
   "cell_type": "code",
   "execution_count": 3,
   "id": "cc594794",
   "metadata": {},
   "outputs": [
    {
     "name": "stdout",
     "output_type": "stream",
     "text": [
      "2\n",
      "1024\n"
     ]
    }
   ],
   "source": [
    "import square\n",
    "print(square.base)\n",
    "print(square.square(10))"
   ]
  },
  {
   "cell_type": "code",
   "execution_count": 4,
   "id": "e0cc3ea4",
   "metadata": {},
   "outputs": [
    {
     "name": "stdout",
     "output_type": "stream",
     "text": [
      "2\n",
      "1024\n"
     ]
    }
   ],
   "source": [
    "import import_ipynb\n",
    "import square\n",
    "\n",
    "print(square.base)\n",
    "print(square.square(10))"
   ]
  },
  {
   "cell_type": "code",
   "execution_count": null,
   "id": "a0b9517d",
   "metadata": {},
   "outputs": [],
   "source": []
  },
  {
   "cell_type": "code",
   "execution_count": null,
   "id": "05cde4ba",
   "metadata": {},
   "outputs": [],
   "source": []
  }
 ],
 "metadata": {
  "kernelspec": {
   "display_name": "Python 3 (ipykernel)",
   "language": "python",
   "name": "python3"
  },
  "language_info": {
   "codemirror_mode": {
    "name": "ipython",
    "version": 3
   },
   "file_extension": ".py",
   "mimetype": "text/x-python",
   "name": "python",
   "nbconvert_exporter": "python",
   "pygments_lexer": "ipython3",
   "version": "3.8.12"
  }
 },
 "nbformat": 4,
 "nbformat_minor": 5
}
